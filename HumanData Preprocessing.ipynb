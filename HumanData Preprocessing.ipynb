{
 "cells": [
  {
   "cell_type": "code",
   "execution_count": 22,
   "metadata": {},
   "outputs": [],
   "source": [
    "import pandas as pd\n",
    "import numpy as np\n",
    "import sklearn.utils as sk"
   ]
  },
  {
   "cell_type": "code",
   "execution_count": 23,
   "metadata": {},
   "outputs": [],
   "source": [
    "with open(\"HumanObserved-Features-Data.csv\", \"r\") as f:\n",
    "    x = pd.read_csv(f)"
   ]
  },
  {
   "cell_type": "code",
   "execution_count": 24,
   "metadata": {},
   "outputs": [],
   "source": [
    "with open(\"diffn_pairs.csv\", \"r\") as g:\n",
    "    y = pd.read_csv(g)"
   ]
  },
  {
   "cell_type": "code",
   "execution_count": 25,
   "metadata": {},
   "outputs": [],
   "source": [
    "with open(\"same_pairs.csv\", \"r\") as g:\n",
    "    z = pd.read_csv(g)"
   ]
  },
  {
   "cell_type": "code",
   "execution_count": 28,
   "metadata": {},
   "outputs": [],
   "source": [
    "y = y.reindex(np.random.permutation(y.index))\n",
    "#z = sk.shuffle(z)\n",
    "y1 = y[0:2500]\n",
    "Raw = pd.concat([y1,z],ignore_index = True)\n",
    "Raw = Raw.reindex(np.random.permutation(Raw.index))"
   ]
  },
  {
   "cell_type": "code",
   "execution_count": 83,
   "metadata": {},
   "outputs": [],
   "source": [
    "#Concatenation\n",
    "df_merge = pd.merge(Raw,x,left_on='img_id_A',right_on='img_id')\n",
    "df_merge=pd.merge(df_merge,x,left_on='img_id_B',right_on='img_id') \n",
    "df_merge=df_merge.drop(df_merge.columns[[0,1,3,4,14,15]],axis=1)\n",
    "df_merge.to_csv('HumanFeatureData.csv')"
   ]
  },
  {
   "cell_type": "code",
   "execution_count": 30,
   "metadata": {},
   "outputs": [],
   "source": [
    "#Subtraction\n",
    "dfA=pd.merge(Raw,x,left_on='img_id_A',right_on='img_id')\n",
    "dfB=pd.merge(Raw,x,left_on='img_id_B',right_on='img_id')\n",
    "dfA=dfA.drop(dfA.columns[[0,1,2,3,4]],axis=1)\n",
    "#dfA\n",
    "dfB=dfB.drop(dfB.columns[[0,1,2,3,4]],axis=1)\n",
    "#dfB\n",
    "dfSub=abs(dfA-dfB)\n",
    "\n",
    "dfSub=Raw.merge(dfSub,how='outer',left_index=True, right_index=True)\n",
    "dfSub=dfSub.drop(dfSub.columns[[0,1]],axis=1)\n",
    "dfSub.to_csv('HumanFeatureDataSub.csv')"
   ]
  },
  {
   "cell_type": "code",
   "execution_count": null,
   "metadata": {},
   "outputs": [],
   "source": []
  }
 ],
 "metadata": {
  "kernelspec": {
   "display_name": "Python 3",
   "language": "python",
   "name": "python3"
  },
  "language_info": {
   "codemirror_mode": {
    "name": "ipython",
    "version": 3
   },
   "file_extension": ".py",
   "mimetype": "text/x-python",
   "name": "python",
   "nbconvert_exporter": "python",
   "pygments_lexer": "ipython3",
   "version": "3.6.5"
  }
 },
 "nbformat": 4,
 "nbformat_minor": 2
}
