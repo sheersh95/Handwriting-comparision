{
 "cells": [
  {
   "cell_type": "code",
   "execution_count": 1,
   "metadata": {},
   "outputs": [],
   "source": [
    "import numpy as np\n",
    "import pandas as pd\n",
    "import csv\n",
    "import math"
   ]
  },
  {
   "cell_type": "code",
   "execution_count": 11,
   "metadata": {},
   "outputs": [],
   "source": [
    "TrainingPercent = 80 #Training split\n",
    "ValPercent = 10 #Validation split\n",
    "TestPercent = 10 #Test split"
   ]
  },
  {
   "cell_type": "code",
   "execution_count": 4,
   "metadata": {},
   "outputs": [],
   "source": [
    "file = pd.read_csv('HumanFeatureDatashuffledSub.csv')\n",
    "lenc = len(file.columns) - 1"
   ]
  },
  {
   "cell_type": "code",
   "execution_count": 119,
   "metadata": {},
   "outputs": [],
   "source": [
    "def GenerateRawData(file_path):\n",
    "    data_target = []\n",
    "    data_input = []\n",
    "    x = pd.read_csv(file_path)\n",
    "    print(x.shape)\n",
    "    data_target = x['target'].tolist()\n",
    "    data_input = x.iloc[:,0:lenc]\n",
    "    print(data_input.shape)\n",
    "    data = np.array(data_input).T\n",
    "    target = data_target\n",
    "\n",
    "    return data,target"
   ]
  },
  {
   "cell_type": "code",
   "execution_count": 120,
   "metadata": {},
   "outputs": [
    {
     "name": "stdout",
     "output_type": "stream",
     "text": [
      "(3291, 9)\n",
      "(3291, 7)\n"
     ]
    }
   ],
   "source": [
    "RawData,RawTarget = GenerateRawData('HumanFeatureDatashuffledSub.csv') "
   ]
  },
  {
   "cell_type": "code",
   "execution_count": 39,
   "metadata": {},
   "outputs": [],
   "source": [
    "TrainingLen = int(math.ceil(len(RawTarget)*(TrainingPercent*0.01)))\n",
    "TrainingTarget = np.array(RawTarget[:TrainingLen])\n",
    "\n",
    "T_len = int(math.ceil(len(RawData[0])*0.01*TrainingPercent))\n",
    "TrainingData = np.array(RawData[:,0:T_len]).T"
   ]
  },
  {
   "cell_type": "code",
   "execution_count": 12,
   "metadata": {},
   "outputs": [
    {
     "name": "stdout",
     "output_type": "stream",
     "text": [
      "(329,)\n",
      "(7, 329)\n"
     ]
    }
   ],
   "source": [
    "valSize = int(math.ceil(len(RawData[0])*ValPercent*0.01))\n",
    "V_End = len(TrainingTarget) + valSize\n",
    "ValData = np.array(RawData[:,len(TrainingTarget)+1:V_End])  \n",
    "\n",
    "ValDataAct = np.array(RawTarget[len(TrainingTarget)+1:V_End])\n",
    "print(ValDataAct.shape)\n",
    "print(ValData.shape)"
   ]
  },
  {
   "cell_type": "code",
   "execution_count": 13,
   "metadata": {},
   "outputs": [
    {
     "name": "stdout",
     "output_type": "stream",
     "text": [
      "(329,)\n",
      "(7, 329)\n"
     ]
    }
   ],
   "source": [
    "TestSize = int(math.ceil(len(RawData[0])*TestPercent*0.01))\n",
    "T_End = len(TrainingTarget) + len(ValDataAct) + valSize\n",
    "TestData = np.array(RawData[:,len(TrainingTarget) + len(ValDataAct):T_End])\n",
    "\n",
    "TestDataAct = np.array(RawTarget[len(TrainingTarget) + len(ValDataAct):T_End])\n",
    "print(TestDataAct.shape)\n",
    "print(TestData.shape)"
   ]
  },
  {
   "cell_type": "code",
   "execution_count": 14,
   "metadata": {},
   "outputs": [],
   "source": [
    "def Sigmoid(value):\n",
    "    return 1 / (1 + np.exp(-value))"
   ]
  },
  {
   "cell_type": "code",
   "execution_count": 102,
   "metadata": {},
   "outputs": [],
   "source": [
    "def predictY(Data,W):\n",
    "    val = np.dot(Data,W.T)\n",
    "    return Sigmoid(val)"
   ]
  },
  {
   "cell_type": "code",
   "execution_count": 103,
   "metadata": {},
   "outputs": [],
   "source": [
    "def loss_function(Data, Target, W):\n",
    "    Predict_Y = predictY(Data,W)\n",
    "    loss1 = -Target*np.log(Predict_Y)\n",
    "    loss2 = (1-Target)*np.log(1-Predict_Y)\n",
    "    loss = loss1 - loss2\n",
    "    loss = loss\n",
    "    return loss"
   ]
  },
  {
   "cell_type": "code",
   "execution_count": 115,
   "metadata": {},
   "outputs": [
    {
     "ename": "NameError",
     "evalue": "name 'Data' is not defined",
     "output_type": "error",
     "traceback": [
      "\u001b[0;31m---------------------------------------------------------------------------\u001b[0m",
      "\u001b[0;31mNameError\u001b[0m                                 Traceback (most recent call last)",
      "\u001b[0;32m<ipython-input-115-97fe11fad5b3>\u001b[0m in \u001b[0;36m<module>\u001b[0;34m()\u001b[0m\n\u001b[0;32m----> 1\u001b[0;31m \u001b[0mPredictY\u001b[0m \u001b[0;34m=\u001b[0m \u001b[0mpredictY\u001b[0m\u001b[0;34m(\u001b[0m\u001b[0mData\u001b[0m\u001b[0;34m,\u001b[0m\u001b[0mW\u001b[0m\u001b[0;34m)\u001b[0m\u001b[0;34m\u001b[0m\u001b[0m\n\u001b[0m\u001b[1;32m      2\u001b[0m \u001b[0mSub\u001b[0m \u001b[0;34m=\u001b[0m \u001b[0mPredictY\u001b[0m \u001b[0;34m-\u001b[0m \u001b[0mTarget\u001b[0m\u001b[0;34m\u001b[0m\u001b[0m\n\u001b[1;32m      3\u001b[0m \u001b[0mDelta_w\u001b[0m \u001b[0;34m=\u001b[0m \u001b[0mnp\u001b[0m\u001b[0;34m.\u001b[0m\u001b[0mdot\u001b[0m\u001b[0;34m(\u001b[0m\u001b[0mData\u001b[0m\u001b[0;34m,\u001b[0m\u001b[0mSub\u001b[0m\u001b[0;34m)\u001b[0m\u001b[0;34m\u001b[0m\u001b[0m\n\u001b[1;32m      4\u001b[0m \u001b[0mDelta_w\u001b[0m \u001b[0;34m=\u001b[0m \u001b[0mDelta_w\u001b[0m\u001b[0;34m/\u001b[0m\u001b[0mlen\u001b[0m\u001b[0;34m(\u001b[0m\u001b[0mData\u001b[0m\u001b[0;34m)\u001b[0m\u001b[0;34m\u001b[0m\u001b[0m\n\u001b[1;32m      5\u001b[0m \u001b[0mDelta_w\u001b[0m \u001b[0;34m=\u001b[0m \u001b[0mDelta_w\u001b[0m\u001b[0;34m*\u001b[0m\u001b[0mlr\u001b[0m\u001b[0;34m\u001b[0m\u001b[0m\n",
      "\u001b[0;31mNameError\u001b[0m: name 'Data' is not defined"
     ]
    }
   ],
   "source": [
    "    PredictY = predictY(Data,W)\n",
    "    Sub = PredictY - Target\n",
    "    Delta_w = np.dot(Data,Sub)\n",
    "    Delta_w = Delta_w/len(Data)\n",
    "    Delta_w = Delta_w*lr\n",
    "    W = W - Delta_w\n",
    "    return W"
   ]
  },
  {
   "cell_type": "code",
   "execution_count": 116,
   "metadata": {},
   "outputs": [
    {
     "ename": "ValueError",
     "evalue": "shapes (2633,7) and (2633,2633) not aligned: 7 (dim 1) != 2633 (dim 0)",
     "output_type": "error",
     "traceback": [
      "\u001b[0;31m---------------------------------------------------------------------------\u001b[0m",
      "\u001b[0;31mValueError\u001b[0m                                Traceback (most recent call last)",
      "\u001b[0;32m<ipython-input-116-d512b06f8c8e>\u001b[0m in \u001b[0;36m<module>\u001b[0;34m()\u001b[0m\n\u001b[1;32m      3\u001b[0m \u001b[0mPredictY\u001b[0m \u001b[0;34m=\u001b[0m \u001b[0mpredictY\u001b[0m\u001b[0;34m(\u001b[0m\u001b[0mTrainingData\u001b[0m\u001b[0;34m,\u001b[0m\u001b[0mW\u001b[0m\u001b[0;34m)\u001b[0m\u001b[0;34m\u001b[0m\u001b[0m\n\u001b[1;32m      4\u001b[0m \u001b[0mSub\u001b[0m \u001b[0;34m=\u001b[0m \u001b[0mPredictY\u001b[0m \u001b[0;34m-\u001b[0m \u001b[0mTrainingTarget\u001b[0m\u001b[0;34m\u001b[0m\u001b[0m\n\u001b[0;32m----> 5\u001b[0;31m \u001b[0mDelta_w\u001b[0m \u001b[0;34m=\u001b[0m \u001b[0mnp\u001b[0m\u001b[0;34m.\u001b[0m\u001b[0mdot\u001b[0m\u001b[0;34m(\u001b[0m\u001b[0mTrainingData\u001b[0m\u001b[0;34m,\u001b[0m\u001b[0mSub\u001b[0m\u001b[0;34m)\u001b[0m\u001b[0;34m\u001b[0m\u001b[0m\n\u001b[0m\u001b[1;32m      6\u001b[0m \u001b[0mDelta_w\u001b[0m \u001b[0;34m=\u001b[0m \u001b[0mDelta_w\u001b[0m\u001b[0;31m#/len(TrainingData)\u001b[0m\u001b[0;34m\u001b[0m\u001b[0m\n\u001b[1;32m      7\u001b[0m \u001b[0mDelta_w\u001b[0m \u001b[0;34m=\u001b[0m \u001b[0mDelta_w\u001b[0m\u001b[0;34m*\u001b[0m\u001b[0;36m0.01\u001b[0m\u001b[0;34m\u001b[0m\u001b[0m\n",
      "\u001b[0;31mValueError\u001b[0m: shapes (2633,7) and (2633,2633) not aligned: 7 (dim 1) != 2633 (dim 0)"
     ]
    }
   ],
   "source": [
    "W = np.ones((1,lenc))\n",
    "\n",
    "PredictY = predictY(TrainingData,W)\n",
    "Sub = PredictY - TrainingTarget\n",
    "Delta_w = np.dot(TrainingData,Sub)\n",
    "Delta_w = Delta_w#/len(TrainingData)\n",
    "Delta_w = Delta_w*0.01\n",
    "W = W - Delta_w\n",
    "loss = loss_function(TrainingData[i],TrainingTarget[i],W)\n"
   ]
  },
  {
   "cell_type": "code",
   "execution_count": 114,
   "metadata": {},
   "outputs": [
    {
     "data": {
      "text/plain": [
       "(2633, 2633)"
      ]
     },
     "execution_count": 114,
     "metadata": {},
     "output_type": "execute_result"
    }
   ],
   "source": [
    "(PredictY - TrainingTarget).shape"
   ]
  },
  {
   "cell_type": "code",
   "execution_count": 94,
   "metadata": {},
   "outputs": [
    {
     "data": {
      "text/plain": [
       "(2633, 7)"
      ]
     },
     "execution_count": 94,
     "metadata": {},
     "output_type": "execute_result"
    }
   ],
   "source": [
    "TrainingData.shape\n"
   ]
  },
  {
   "cell_type": "code",
   "execution_count": 98,
   "metadata": {},
   "outputs": [
    {
     "data": {
      "text/plain": [
       "(2633,)"
      ]
     },
     "execution_count": 98,
     "metadata": {},
     "output_type": "execute_result"
    }
   ],
   "source": [
    "TrainingTarget.shape"
   ]
  },
  {
   "cell_type": "code",
   "execution_count": null,
   "metadata": {},
   "outputs": [],
   "source": [
    "\n",
    "\n"
   ]
  },
  {
   "cell_type": "code",
   "execution_count": 92,
   "metadata": {},
   "outputs": [
    {
     "data": {
      "text/plain": [
       "array([[2, 1, 1, ..., 2, 0, 0],\n",
       "       [0, 2, 1, ..., 2, 1, 1],\n",
       "       [2, 2, 0, ..., 0, 0, 0],\n",
       "       ...,\n",
       "       [0, 1, 0, ..., 2, 1, 2],\n",
       "       [1, 0, 0, ..., 0, 2, 1],\n",
       "       [1, 2, 2, ..., 2, 0, 3]])"
      ]
     },
     "execution_count": 92,
     "metadata": {},
     "output_type": "execute_result"
    }
   ],
   "source": [
    "TrainingData"
   ]
  },
  {
   "cell_type": "code",
   "execution_count": null,
   "metadata": {},
   "outputs": [],
   "source": []
  }
 ],
 "metadata": {
  "kernelspec": {
   "display_name": "Python 3",
   "language": "python",
   "name": "python3"
  },
  "language_info": {
   "codemirror_mode": {
    "name": "ipython",
    "version": 3
   },
   "file_extension": ".py",
   "mimetype": "text/x-python",
   "name": "python",
   "nbconvert_exporter": "python",
   "pygments_lexer": "ipython3",
   "version": "3.6.5"
  }
 },
 "nbformat": 4,
 "nbformat_minor": 2
}
