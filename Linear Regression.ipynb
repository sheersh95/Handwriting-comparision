{
 "cells": [
  {
   "cell_type": "markdown",
   "metadata": {},
   "source": [
    "## Libraries Required"
   ]
  },
  {
   "cell_type": "code",
   "execution_count": 185,
   "metadata": {},
   "outputs": [],
   "source": [
    "from sklearn.cluster import KMeans\n",
    "import numpy as np\n",
    "import csv\n",
    "import math\n",
    "import matplotlib.pyplot\n",
    "from matplotlib import pyplot as plt\n",
    "import pandas as pd"
   ]
  },
  {
   "cell_type": "markdown",
   "metadata": {},
   "source": [
    "## Human Observed Data Preprocessing"
   ]
  },
  {
   "cell_type": "code",
   "execution_count": null,
   "metadata": {},
   "outputs": [],
   "source": [
    "'''with open(\"HumanObserved-Features-Data.csv\", \"r\") as f: #Read features csv\n",
    "    x = pd.read_csv(f)\n",
    "    \n",
    "with open(\"diffn_pairs.csv\", \"r\") as g: # Read Different pairs csv\n",
    "    y = pd.read_csv(g)\n",
    "    \n",
    "with open(\"same_pairs.csv\", \"r\") as g:  #Read same pairs csv\n",
    "    z = pd.read_csv(g)\n",
    "    \n",
    "y = y.reindex(np.random.permutation(y.index))  # Randomize the csv file\n",
    "y1 = y[0:2500]\n",
    "Raw = pd.concat([y1,z],ignore_index = True)\n",
    "Raw = Raw.reindex(np.random.permutation(Raw.index))\n",
    "\n",
    "#Concatenation\n",
    "df_merge = pd.merge(Raw,x,left_on='img_id_A',right_on='img_id')\n",
    "df_merge=pd.merge(df_merge,x,left_on='img_id_B',right_on='img_id') \n",
    "df_merge=df_merge.drop(df_merge.columns[[0,1,3,4,14,15]],axis=1)\n",
    "df_merge = df_merge.loc[:,(df_merge!=0).any(axis=0)] #Remove zero variance features\n",
    "df_merge.to_csv('HumanFeatureData.csv')\n",
    "\n",
    "#Subtraction\n",
    "dfA=pd.merge(Raw,x,left_on='img_id_A',right_on='img_id')\n",
    "dfB=pd.merge(Raw,x,left_on='img_id_B',right_on='img_id')\n",
    "dfA=dfA.drop(dfA.columns[[0,1,2,3,4]],axis=1)\n",
    "dfB=dfB.drop(dfB.columns[[0,1,2,3,4]],axis=1)\n",
    "dfSub=abs(dfA-dfB)\n",
    "dfSub=Raw.merge(dfSub,how='outer',left_index=True, right_index=True)\n",
    "dfSub=dfSub.drop(dfSub.columns[[0,1]],axis=1)\n",
    "df_Sub = df_Sub.loc[:,(df_Sub!=0).any(axis=0)] #Remove zero variance features\n",
    "dfSub.to_csv('HumanFeatureDataSub.csv')'''"
   ]
  },
  {
   "cell_type": "markdown",
   "metadata": {},
   "source": [
    "## GSC Data Preprocessing"
   ]
  },
  {
   "cell_type": "code",
   "execution_count": null,
   "metadata": {},
   "outputs": [],
   "source": [
    "'''with open(\"GSC-Features.csv\", \"r\") as f:  #Read features csv\n",
    "    x = pd.read_csv(f)\n",
    "    \n",
    "with open(\"diffn_pairs_gsc.csv\", \"r\") as g:  # Read Different pairs csv\n",
    "    y = pd.read_csv(g)\n",
    "    \n",
    "with open(\"same_pairs_gsc.csv\", \"r\") as g: #Read same pairs csv\n",
    "    z = pd.read_csv(g)\n",
    "    \n",
    "y = y.reindex(np.random.permutation(y.index))  # Randomize the two csv files\n",
    "z = z.reindex(np.random.permutation(z.index))\n",
    "y1 = y[0:2000]\n",
    "z1 = z[0:1000]  \n",
    "Raw = pd.concat([y1,z1],ignore_index = True)  #Concatenate the two csv files\n",
    "Raw = Raw.reindex(np.random.permutation(Raw.index))  #Randomize the csv file\n",
    "\n",
    "#Concatenation\n",
    "df_merge = pd.merge(Raw,x,left_on='img_id_A',right_on='img_id')\n",
    "df_merge=pd.merge(df_merge,x,left_on='img_id_B',right_on='img_id') \n",
    "df_merge=df_merge.drop(df_merge.columns[[0,1,3,516]],axis=1)\n",
    "df_merge = df_merge.loc[:,(df_merge!=0).any(axis=0)] #Remove zero variance features\n",
    "df_merge.to_csv('GSCFeatureData.csv')\n",
    "\n",
    "#Subtraction\n",
    "dfA=pd.merge(Raw,x,left_on='img_id_A',right_on='img_id')\n",
    "dfB=pd.merge(Raw,x,left_on='img_id_B',right_on='img_id')\n",
    "dfA=dfA.drop(dfA.columns[[0,1,2,3]],axis=1)\n",
    "dfB=dfB.drop(dfB.columns[[0,1,2,3]],axis=1)\n",
    "dfSub=abs(dfA-dfB)\n",
    "dfSub=Raw.merge(dfSub,how='outer',left_index=True, right_index=True)\n",
    "dfSub=dfSub.drop(dfSub.columns[[0,1]],axis=1)\n",
    "dfSub = dfSub.loc[:,(dfSub!=0).any(axis=0)]  #Remove zero variance features\n",
    "dfSub.to_csv('GSCFeatureDataSub.csv')'''"
   ]
  },
  {
   "cell_type": "markdown",
   "metadata": {},
   "source": [
    "## Initial Variables"
   ]
  },
  {
   "cell_type": "code",
   "execution_count": 186,
   "metadata": {},
   "outputs": [],
   "source": [
    "C_Lambda = 0.01\n",
    "TrainingPercent = 80 #Training split\n",
    "ValPercent = 10 #Validation split\n",
    "TestPercent = 10 #Test split\n",
    "M = 5# Number of clusters\n",
    "PHI = []"
   ]
  },
  {
   "cell_type": "code",
   "execution_count": 262,
   "metadata": {},
   "outputs": [
    {
     "data": {
      "text/plain": [
       "20"
      ]
     },
     "execution_count": 262,
     "metadata": {},
     "output_type": "execute_result"
    }
   ],
   "source": [
    "file = pd.read_csv('HumanFeatureData.csv') \n",
    "lenc = len(file.columns) #Obtain Number of features\n",
    "lenc"
   ]
  },
  {
   "cell_type": "markdown",
   "metadata": {},
   "source": [
    "## Generate Raw Data"
   ]
  },
  {
   "cell_type": "code",
   "execution_count": 263,
   "metadata": {},
   "outputs": [],
   "source": [
    "def GenerateRawData(file_path): #Function to generate Feature matrix and Target vector\n",
    "    data_target = []\n",
    "    data_input = []\n",
    "    x = pd.read_csv(file_path)\n",
    "    data_target = x['target'].tolist()\n",
    "    \n",
    "    data_input = x.iloc[:,2:lenc]\n",
    "    \n",
    "    data = np.array(data_input).T\n",
    "    target = data_target\n",
    "\n",
    "    return data,target"
   ]
  },
  {
   "cell_type": "markdown",
   "metadata": {},
   "source": [
    "## Functions Used"
   ]
  },
  {
   "cell_type": "code",
   "execution_count": 264,
   "metadata": {},
   "outputs": [],
   "source": [
    "\n",
    "def GenerateBigSigma(Data, MuMatrix,TrainingPercent): #Generating the Covariance matrix\n",
    "    BigSigma    = np.zeros((len(Data),len(Data)))\n",
    "    DataT       = np.transpose(Data)\n",
    "    TrainingLen = math.ceil(len(DataT)*(TrainingPercent*0.01))        \n",
    "    varVect     = []\n",
    "    for i in range(0,len(DataT[0])):\n",
    "        vct = []\n",
    "        for j in range(0,int(TrainingLen)):\n",
    "            vct.append(Data[i][j])    \n",
    "        varVect.append(np.var(vct))\n",
    "    \n",
    "    for j in range(len(Data)):\n",
    "        BigSigma[j][j] = varVect[j]\n",
    "        \n",
    "    return BigSigma\n",
    "\n",
    "def GetScalar(DataRow,MuRow, BigSigInv): #This function is used to calculate the Gaussian basis function\n",
    "    #(Without taking the exponential) on the input vector and in the end it returns a scalar value.\n",
    "    R = np.subtract(DataRow,MuRow)\n",
    "    T = np.dot(BigSigInv,np.transpose(R))  \n",
    "    L = np.dot(R,T)\n",
    "    return L\n",
    "\n",
    "def GetRadialBasisOut(DataRow,MuRow, BigSigInv): #This function takes the value from the above function gets the \n",
    "    #final scalar value for the Gaussian basis function by taking the exponential.    \n",
    "    phi_x = math.exp(-GetScalar(DataRow,MuRow,BigSigInv))\n",
    "    return phi_x\n",
    "\n",
    "def GetPhiMatrix(Data, MuMatrix, BigSigma, TrainingPercent = 80): # This function creates the design matrix \n",
    "    DataT = np.transpose(Data)\n",
    "    TrainingLen = math.ceil(len(DataT)*(TrainingPercent*0.01))         \n",
    "    PHI = np.zeros((int(TrainingLen),len(MuMatrix))) \n",
    "    BigSigInv = np.linalg.inv(BigSigma)\n",
    "    for  C in range(0,len(MuMatrix)):\n",
    "        for R in range(0,int(TrainingLen)):\n",
    "            PHI[R][C] = GetRadialBasisOut(DataT[R], MuMatrix[C], BigSigInv)\n",
    "    return PHI\n",
    "\n",
    "def GetWeightsClosedForm(PHI, T, Lambda): #This function calculates the weights by performing the matrix multiplication\n",
    "    #on the Moore-penrose psuedo inverse of the design matrix and the vector for target variables.\n",
    "    Lambda_I = np.identity(len(PHI[0]))\n",
    "    for i in range(0,len(PHI[0])):\n",
    "        Lambda_I[i][i] = Lambda\n",
    "    PHI_T       = np.transpose(PHI)\n",
    "    PHI_SQR     = np.dot(PHI_T,PHI)\n",
    "    PHI_SQR_LI  = np.add(Lambda_I,PHI_SQR)\n",
    "    PHI_SQR_INV = np.linalg.inv(PHI_SQR_LI)\n",
    "    INTER       = np.dot(PHI_SQR_INV, PHI_T)\n",
    "    W           = np.dot(INTER, T)\n",
    "    return W\n",
    "\n",
    "def GetValTest(VAL_PHI,W): #This function performs matrix multiplication between the weight vector and the design matrix\n",
    "    Y = np.dot(W,np.transpose(VAL_PHI))\n",
    "    return Y\n",
    "\n",
    "def GetErms(VAL_TEST_OUT,ValDataAct): #This function calculates the root mean square error and accuracy.\n",
    "    sum = 0.0\n",
    "    accuracy = 0.0\n",
    "    counter = 0\n",
    "    \n",
    "    for i in range (0,len(VAL_TEST_OUT)):\n",
    "        sum = sum + math.pow((ValDataAct[i] - VAL_TEST_OUT[i]),2)\n",
    "        if(int(np.around(VAL_TEST_OUT[i], 0)) == ValDataAct[i]):\n",
    "            counter+=1\n",
    "    accuracy = (float((counter*100))/float(len(VAL_TEST_OUT))) #Calculating the accuracy\n",
    "    return (str(accuracy) + ',' +  str(math.sqrt(sum/len(VAL_TEST_OUT)))) # Returning the accuracy and the RMS error."
   ]
  },
  {
   "cell_type": "markdown",
   "metadata": {},
   "source": [
    "## Fetch and Prepare Dataset"
   ]
  },
  {
   "cell_type": "code",
   "execution_count": 274,
   "metadata": {},
   "outputs": [],
   "source": [
    "RawData,RawTarget = GenerateRawData('HumanFeatureData.csv') "
   ]
  },
  {
   "cell_type": "markdown",
   "metadata": {},
   "source": [
    "## Prepare Training Data"
   ]
  },
  {
   "cell_type": "code",
   "execution_count": 275,
   "metadata": {},
   "outputs": [],
   "source": [
    "TrainingLen = int(math.ceil(len(RawTarget)*(TrainingPercent*0.01)))\n",
    "TrainingTarget = np.array(RawTarget[:TrainingLen])\n",
    "\n",
    "T_len = int(math.ceil(len(RawData[0])*0.01*TrainingPercent))\n",
    "TrainingData = np.array(RawData[:,0:T_len])"
   ]
  },
  {
   "cell_type": "markdown",
   "metadata": {},
   "source": [
    "## Prepare Validation Data"
   ]
  },
  {
   "cell_type": "code",
   "execution_count": 276,
   "metadata": {},
   "outputs": [
    {
     "name": "stdout",
     "output_type": "stream",
     "text": [
      "(329,)\n",
      "(18, 329)\n"
     ]
    }
   ],
   "source": [
    "valSize = int(math.ceil(len(RawData[0])*ValPercent*0.01))\n",
    "V_End = len(TrainingTarget) + valSize\n",
    "ValData = np.array(RawData[:,len(TrainingTarget)+1:V_End])  \n",
    "\n",
    "ValDataAct = np.array(RawTarget[len(TrainingTarget)+1:V_End])\n",
    "print(ValDataAct.shape)\n",
    "print(ValData.shape)"
   ]
  },
  {
   "cell_type": "markdown",
   "metadata": {},
   "source": [
    "## Prepare Test Data"
   ]
  },
  {
   "cell_type": "code",
   "execution_count": 277,
   "metadata": {},
   "outputs": [
    {
     "name": "stdout",
     "output_type": "stream",
     "text": [
      "(329,)\n",
      "(18, 329)\n"
     ]
    }
   ],
   "source": [
    "TestSize = int(math.ceil(len(RawData[0])*TestPercent*0.01))\n",
    "T_End = len(TrainingTarget) + len(ValDataAct) + valSize\n",
    "TestData = np.array(RawData[:,len(TrainingTarget) + len(ValDataAct):T_End])\n",
    "\n",
    "TestDataAct = np.array(RawTarget[len(TrainingTarget) + len(ValDataAct):T_End])\n",
    "print(TestDataAct.shape)\n",
    "print(TestData.shape)"
   ]
  },
  {
   "cell_type": "markdown",
   "metadata": {},
   "source": [
    "## Closed Form Solution [Finding Weights using Moore- Penrose pseudo- Inverse Matrix]"
   ]
  },
  {
   "cell_type": "code",
   "execution_count": 278,
   "metadata": {},
   "outputs": [],
   "source": [
    "ErmsArr = []\n",
    "AccuracyArr = []\n",
    "\n",
    "\n",
    "kmeans = KMeans(n_clusters=M, random_state=0).fit(np.transpose(TrainingData)) #K-means clustering\n",
    "Mu = kmeans.cluster_centers_ #Centroids of each cluster\n",
    "\n",
    "BigSigma     = GenerateBigSigma(RawData, Mu, TrainingPercent) #covariance matrix\n",
    "TRAINING_PHI = GetPhiMatrix(RawData, Mu, BigSigma, TrainingPercent) # get the training design matrix\n",
    "W            = GetWeightsClosedForm(TRAINING_PHI,TrainingTarget,(C_Lambda)) # get the updated weights\n",
    "TEST_PHI     = GetPhiMatrix(TestData, Mu, BigSigma, 100) #Testing design matrix\n",
    "VAL_PHI      = GetPhiMatrix(ValData, Mu, BigSigma, 100) #Validation design matrix"
   ]
  },
  {
   "cell_type": "markdown",
   "metadata": {},
   "source": [
    "## Finding Erms on training, validation and test set "
   ]
  },
  {
   "cell_type": "code",
   "execution_count": 279,
   "metadata": {},
   "outputs": [],
   "source": [
    "TR_TEST_OUT  = GetValTest(TRAINING_PHI,W) #Matrix multiplication between Training design matrix and weight vector\n",
    "VAL_TEST_OUT = GetValTest(VAL_PHI,W) #Matrix multiplication between Validation design matrix and weight vector\n",
    "TEST_OUT     = GetValTest(TEST_PHI,W) #Matrix multiplication between Testing design matrix and weight vector\n",
    "\n",
    "\n",
    "TrainingAccuracy   = str(GetErms(TR_TEST_OUT,TrainingTarget))#Training Erms\n",
    "ValidationAccuracy = str(GetErms(VAL_TEST_OUT,ValDataAct))#Validation Erms\n",
    "TestAccuracy       = str(GetErms(TEST_OUT,TestDataAct))#Testing Erms"
   ]
  },
  {
   "cell_type": "code",
   "execution_count": 280,
   "metadata": {},
   "outputs": [
    {
     "name": "stdout",
     "output_type": "stream",
     "text": [
      "UBITname      = SHEERSHA\n",
      "Person Number = 50291476\n",
      "-------Closed Form with Radial Basis Function-------\n",
      "E_rms Training   = 0.47801690289811866\n",
      "E_rms Validation = 0.4927322539042101\n",
      "E_rms Testing    = 0.5702167038492976\n"
     ]
    }
   ],
   "source": [
    "print ('UBITname      = SHEERSHA')\n",
    "print ('Person Number = 50291476')\n",
    "print (\"-------Closed Form with Radial Basis Function-------\")\n",
    "print (\"E_rms Training   = \" + str(float(TrainingAccuracy.split(',')[1])))\n",
    "print (\"E_rms Validation = \" + str(float(ValidationAccuracy.split(',')[1])))\n",
    "print (\"E_rms Testing    = \" + str(float(TestAccuracy.split(',')[1])))"
   ]
  },
  {
   "cell_type": "markdown",
   "metadata": {},
   "source": [
    "## Gradient Descent solution for Linear Regression"
   ]
  },
  {
   "cell_type": "code",
   "execution_count": 281,
   "metadata": {},
   "outputs": [],
   "source": [
    "W_Now        = np.dot(220, W) \n",
    "learningRate = 0.05\n",
    "La = 5\n",
    "L_Erms_Val   = []\n",
    "L_Erms_TR    = []\n",
    "L_Erms_Test  = []\n",
    "\n",
    "for i in range(0,2400):\n",
    "    \n",
    "    #print ('---------Iteration: ' + str(i) + '--------------')\n",
    "    #This part of the code updates the weights after each iteration using Stochastic Gradient Descent\n",
    "    Delta_E_D     = -np.dot((TrainingTarget[i] - np.dot(np.transpose(W_Now),TRAINING_PHI[i])),TRAINING_PHI[i]) #This \n",
    "    #line calculates the first part of delta E equation which is added to the regularization term\n",
    "    La_Delta_E_W  = np.dot(La,W_Now) #Regularization term\n",
    "    Delta_E       = np.add(Delta_E_D,La_Delta_E_W) #We get Delta E by adding the above two terms    \n",
    "    Delta_W       = -np.dot(learningRate,Delta_E) #This is the term which updates the weights\n",
    "    W_T_Next      = W_Now + Delta_W #Updating of the weights\n",
    "    W_Now         = W_T_Next\n",
    "    \n",
    "    #-----------------TrainingData Accuracy---------------------#\n",
    "    TR_TEST_OUT   = GetValTest(TRAINING_PHI,W_T_Next)  #Calculating Training Erms after each iteration\n",
    "    Erms_TR       = GetErms(TR_TEST_OUT,TrainingTarget)\n",
    "    L_Erms_TR.append(float(Erms_TR.split(',')[1]))\n",
    "    \n",
    "    #-----------------ValidationData Accuracy---------------------#\n",
    "    VAL_TEST_OUT  = GetValTest(VAL_PHI,W_T_Next)  #Calculating Validation Erms after each iteration\n",
    "    Erms_Val      = GetErms(VAL_TEST_OUT,ValDataAct)\n",
    "    L_Erms_Val.append(float(Erms_Val.split(',')[1]))\n",
    "    \n",
    "    #-----------------TestingData Accuracy---------------------#\n",
    "    TEST_OUT      = GetValTest(TEST_PHI,W_T_Next) #Calculating Testing Erms after each iteration\n",
    "    Erms_Test = GetErms(TEST_OUT,TestDataAct)\n",
    "    L_Erms_Test.append(float(Erms_Test.split(',')[1]))"
   ]
  },
  {
   "cell_type": "code",
   "execution_count": 282,
   "metadata": {},
   "outputs": [
    {
     "name": "stdout",
     "output_type": "stream",
     "text": [
      "----------Gradient Descent Solution--------------------\n",
      "E_rms Training   = 0.47496\n",
      "E_rms Validation = 0.49219\n",
      "E_rms Testing    = 0.5615\n"
     ]
    }
   ],
   "source": [
    "print ('----------Gradient Descent Solution--------------------')\n",
    "print (\"E_rms Training   = \" + str(np.around(min(L_Erms_TR),5)))\n",
    "print (\"E_rms Validation = \" + str(np.around(min(L_Erms_Val),5)))\n",
    "print (\"E_rms Testing    = \" + str(np.around(min(L_Erms_Test),5)))"
   ]
  }
 ],
 "metadata": {
  "kernelspec": {
   "display_name": "Python 3",
   "language": "python",
   "name": "python3"
  },
  "language_info": {
   "codemirror_mode": {
    "name": "ipython",
    "version": 3
   },
   "file_extension": ".py",
   "mimetype": "text/x-python",
   "name": "python",
   "nbconvert_exporter": "python",
   "pygments_lexer": "ipython3",
   "version": "3.6.5"
  }
 },
 "nbformat": 4,
 "nbformat_minor": 2
}
