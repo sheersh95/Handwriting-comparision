{
 "cells": [
  {
   "cell_type": "code",
   "execution_count": 11,
   "metadata": {},
   "outputs": [],
   "source": [
    "import pandas as pd\n",
    "import sklearn.utils as sk"
   ]
  },
  {
   "cell_type": "code",
   "execution_count": 12,
   "metadata": {},
   "outputs": [],
   "source": [
    "with open(\"HumanObserved-Features-Data.csv\", \"r\") as f:\n",
    "    x = pd.read_csv(f)"
   ]
  },
  {
   "cell_type": "code",
   "execution_count": 13,
   "metadata": {},
   "outputs": [],
   "source": [
    "with open(\"diffn_pairs.csv\", \"r\") as g:\n",
    "    y = pd.read_csv(g)"
   ]
  },
  {
   "cell_type": "code",
   "execution_count": 14,
   "metadata": {},
   "outputs": [],
   "source": [
    "with open(\"same_pairs.csv\", \"r\") as g:\n",
    "    z = pd.read_csv(g)"
   ]
  },
  {
   "cell_type": "code",
   "execution_count": 15,
   "metadata": {},
   "outputs": [],
   "source": [
    "y = sk.shuffle(y)\n",
    "y1 = y[0:2500]\n",
    "Raw = pd.concat([y1,z],ignore_index = True)\n",
    "df = pd.DataFrame(columns = range(0,19))"
   ]
  },
  {
   "cell_type": "code",
   "execution_count": 16,
   "metadata": {
    "scrolled": true
   },
   "outputs": [
    {
     "name": "stderr",
     "output_type": "stream",
     "text": [
      "/home/sheersh/tensorflow/venv/lib/python3.6/site-packages/ipykernel_launcher.py:11: FutureWarning: reshape is deprecated and will raise in a subsequent release. Please use .values.reshape(...) instead\n",
      "  # This is added back by InteractiveShellApp.init_path()\n"
     ]
    }
   ],
   "source": [
    "for i in range(Raw['img_id_A'].shape[0]):\n",
    "    f1 = Raw['img_id_A'][i]\n",
    "    f2 = Raw['img_id_B'][i]\n",
    "    foc1 = x.loc[x['img_id'] == f1]\n",
    "    foc2 = x.loc[x['img_id'] == f2]\n",
    "    target = Raw['target'][i]\n",
    "    target = pd.Series(target)\n",
    "    foc1 = foc1.iloc[0,2:11]\n",
    "    foc2 = foc2.iloc[0,2:11]\n",
    "    com = pd.concat([foc1,foc2,target],ignore_index = True)\n",
    "    com = com.reshape(1,19)\n",
    "    df.loc[i] = com[0]"
   ]
  },
  {
   "cell_type": "code",
   "execution_count": 17,
   "metadata": {},
   "outputs": [],
   "source": [
    "df.to_csv('HumanFeatureData.csv')"
   ]
  },
  {
   "cell_type": "code",
   "execution_count": 18,
   "metadata": {},
   "outputs": [],
   "source": [
    "df = pd.read_csv('HumanFeatureData.csv')"
   ]
  },
  {
   "cell_type": "code",
   "execution_count": 19,
   "metadata": {},
   "outputs": [],
   "source": [
    "df = sk.shuffle(df)"
   ]
  },
  {
   "cell_type": "code",
   "execution_count": 20,
   "metadata": {},
   "outputs": [],
   "source": [
    "df.to_csv('HumanFeatureDatashuffled.csv')"
   ]
  },
  {
   "cell_type": "code",
   "execution_count": 28,
   "metadata": {},
   "outputs": [
    {
     "data": {
      "text/plain": [
       "array([[3, 1, 1, 0, 2, 2, 0, 0, 2, 2, 1, 1, 0, 2, 2, 1, 1, 1, 0]],\n",
       "      dtype=object)"
      ]
     },
     "execution_count": 28,
     "metadata": {},
     "output_type": "execute_result"
    }
   ],
   "source": [
    "com"
   ]
  },
  {
   "cell_type": "code",
   "execution_count": null,
   "metadata": {},
   "outputs": [],
   "source": []
  }
 ],
 "metadata": {
  "kernelspec": {
   "display_name": "Python 3",
   "language": "python",
   "name": "python3"
  },
  "language_info": {
   "codemirror_mode": {
    "name": "ipython",
    "version": 3
   },
   "file_extension": ".py",
   "mimetype": "text/x-python",
   "name": "python",
   "nbconvert_exporter": "python",
   "pygments_lexer": "ipython3",
   "version": "3.6.5"
  }
 },
 "nbformat": 4,
 "nbformat_minor": 2
}
